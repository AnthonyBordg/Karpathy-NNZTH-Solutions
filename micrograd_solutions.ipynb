{
  "metadata": {
    "kernelspec": {
      "name": "python",
      "display_name": "Python (Pyodide)",
      "language": "python"
    },
    "language_info": {
      "codemirror_mode": {
        "name": "python",
        "version": 3
      },
      "file_extension": ".py",
      "mimetype": "text/x-python",
      "name": "python",
      "nbconvert_exporter": "python",
      "pygments_lexer": "ipython3",
      "version": "3.8"
    },
    "colab": {
      "provenance": []
    }
  },
  "nbformat_minor": 0,
  "nbformat": 4,
  "cells": [
    {
      "cell_type": "markdown",
      "source": [
        "# micrograd exercises\n",
        "\n",
        "1. watch the [micrograd video](https://www.youtube.com/watch?v=VMj-3S1tku0) on YouTube\n",
        "2. come back and complete these exercises to level up :)"
      ],
      "metadata": {
        "id": "JnGHatCI51JP"
      }
    },
    {
      "cell_type": "markdown",
      "source": [
        "## section 1: derivatives"
      ],
      "metadata": {
        "id": "OFt6NKOz6iBZ"
      }
    },
    {
      "cell_type": "code",
      "source": [
        "# here is a mathematical expression that takes 3 inputs and produces one output\n",
        "from math import sin, cos\n",
        "\n",
        "def f(a, b, c):\n",
        "  return -a**3 + sin(3*b) - 1.0/c + b**2.5 - a**0.5\n",
        "\n",
        "print(f(2, 3, 4))"
      ],
      "metadata": {
        "id": "3Jx9fCXl5xHd",
        "trusted": true,
        "colab": {
          "base_uri": "https://localhost:8080/"
        },
        "outputId": "52484950-d89d-4c8b-c3e6-ca04c46196f5"
      },
      "outputs": [
        {
          "output_type": "stream",
          "name": "stdout",
          "text": [
            "6.336362190988558\n"
          ]
        }
      ],
      "execution_count": 4
    },
    {
      "cell_type": "code",
      "source": [
        "# write the function df that returns the analytical gradient of f\n",
        "# i.e. use your skills from calculus to take the derivative, then implement the formula\n",
        "# if you do not calculus then feel free to ask wolframalpha, e.g.:\n",
        "# https://www.wolframalpha.com/input?i=d%2Fda%28sin%283*a%29%29%29\n",
        "\n",
        "def gradf(a, b, c):\n",
        "  return [-3 * a**2 - (a**-0.5)/2, 3 * cos(3*b) + 2.5 * b**1.5, c**-2] # return [df/da, df/db, df/dc]\n",
        "\n",
        "# expected answer is the list of\n",
        "ans = [-12.353553390593273, 10.25699027111255, 0.0625]\n",
        "yours = gradf(2, 3, 4)\n",
        "for dim in range(3):\n",
        "  ok = 'OK' if abs(yours[dim] - ans[dim]) < 1e-5 else 'WRONG!'\n",
        "  print(f\"{ok} for dim {dim}: expected {ans[dim]}, yours returns {yours[dim]}\")\n"
      ],
      "metadata": {
        "id": "qXaH59eL9zxf",
        "trusted": true,
        "colab": {
          "base_uri": "https://localhost:8080/"
        },
        "outputId": "310b60a2-745c-4951-80ad-4ffab2bcedc8"
      },
      "outputs": [
        {
          "output_type": "stream",
          "name": "stdout",
          "text": [
            "OK for dim 0: expected -12.353553390593273, yours returns -12.353553390593273\n",
            "OK for dim 1: expected 10.25699027111255, yours returns 10.25699027111255\n",
            "OK for dim 2: expected 0.0625, yours returns 0.0625\n"
          ]
        }
      ],
      "execution_count": 5
    },
    {
      "cell_type": "code",
      "source": [
        "# now estimate the gradient numerically without any calculus, using\n",
        "# the approximation we used in the video.\n",
        "# you should not call the function df from the last cell\n",
        "\n",
        "h = 0.000001\n",
        "a = 2\n",
        "b = 3\n",
        "c = 4\n",
        "\n",
        "# -----------\n",
        "numerical_grad = [(f(a+h, b, c) - f(a, b, c))/h , (f(a, b+h, c) - f(a, b, c))/h , (f(a, b, c+h) - f(a, b, c))/h] # return a numerical approx of [df/da, df/db, df/dc]\n",
        "# -----------\n",
        "\n",
        "for dim in range(3):\n",
        "  ok = 'OK' if abs(numerical_grad[dim] - ans[dim]) < 1e-5 else 'WRONG!'\n",
        "  print(f\"{ok} for dim {dim}: expected {ans[dim]}, yours returns {numerical_grad[dim]}\")\n"
      ],
      "metadata": {
        "id": "_27n-KTA9Qla",
        "trusted": true,
        "colab": {
          "base_uri": "https://localhost:8080/"
        },
        "outputId": "35a4c28c-6e0a-43ce-cf01-bc78f6931c0f"
      },
      "outputs": [
        {
          "output_type": "stream",
          "name": "stdout",
          "text": [
            "OK for dim 0: expected -12.353553390593273, yours returns -12.353559348809995\n",
            "OK for dim 1: expected 10.25699027111255, yours returns 10.256991666679482\n",
            "OK for dim 2: expected 0.0625, yours returns 0.062499984743169534\n"
          ]
        }
      ],
      "execution_count": 6
    },
    {
      "cell_type": "code",
      "source": [
        "# there is an alternative formula that provides a much better numerical\n",
        "# approximation to the derivative of a function.\n",
        "# learn about it here: https://en.wikipedia.org/wiki/Symmetric_derivative\n",
        "# implement it. confirm that for the same step size h this version gives a\n",
        "# better approximation.\n",
        "\n",
        "# -----------\n",
        "numerical_grad2 = [(f(a+h, b, c) - f(a-h, b, c))/(2*h) , (f(a, b+h, c) - f(a, b-h, c))/(2*h) , (f(a, b, c+h) - f(a, b, c-h))/(2*h)] # return a better approx of [df/da, df/db, df/dc]\n",
        "# -----------\n",
        "\n",
        "for dim in range(3):\n",
        "  ok = 'OK' if abs(numerical_grad2[dim] - ans[dim]) < 1e-5 else 'WRONG!'\n",
        "  print(f\"{ok} for dim {dim}: expected {ans[dim]}, yours returns {numerical_grad2[dim]}\")\n"
      ],
      "metadata": {
        "id": "BUqsGb5o_h2P",
        "trusted": true,
        "colab": {
          "base_uri": "https://localhost:8080/"
        },
        "outputId": "f454be66-8590-4428-b5ac-7e42d25488eb"
      },
      "outputs": [
        {
          "output_type": "stream",
          "name": "stdout",
          "text": [
            "OK for dim 0: expected -12.353553390593273, yours returns -12.353553391353245\n",
            "OK for dim 1: expected 10.25699027111255, yours returns 10.25699027401572\n",
            "OK for dim 2: expected 0.0625, yours returns 0.06250000028629188\n"
          ]
        }
      ],
      "execution_count": 7
    },
    {
      "cell_type": "markdown",
      "source": [
        "## section 2: support for softmax"
      ],
      "metadata": {
        "id": "tklF9s_4AtlI"
      }
    },
    {
      "cell_type": "code",
      "source": [
        "# Value class starter code, with many functions taken out\n",
        "from math import exp, log\n",
        "\n",
        "class Value:\n",
        "\n",
        "  def __init__(self, data, _children=(), _op='', label=''):\n",
        "    self.data = data\n",
        "    self.grad = 0.0\n",
        "    self._backward = lambda: None\n",
        "    self._prev = set(_children)\n",
        "    self._op = _op\n",
        "    self.label = label\n",
        "\n",
        "  def __repr__(self):\n",
        "    return f\"Value(data={self.data})\"\n",
        "\n",
        "  def __add__(self, other): # exactly as in the video\n",
        "    other = other if isinstance(other, Value) else Value(other)\n",
        "    out = Value(self.data + other.data, (self, other), '+')\n",
        "\n",
        "    def _backward():\n",
        "      self.grad += 1.0 * out.grad\n",
        "      other.grad += 1.0 * out.grad\n",
        "\n",
        "    out._backward = _backward\n",
        "\n",
        "    return out\n",
        "\n",
        "  # ------\n",
        "  # re-implement all the other functions needed for the exercises below\n",
        "  # your code here\n",
        "  # TODO\n",
        "\n",
        "  def exp(self):\n",
        "    out = Value(exp(self.data), (self,), 'exp')\n",
        "\n",
        "    def _backward():\n",
        "      self.grad += out.data * out.grad\n",
        "\n",
        "    out._backward = _backward\n",
        "\n",
        "    return out\n",
        "\n",
        "  def log(self):\n",
        "    out = Value(log(self.data), (self,), 'log')\n",
        "\n",
        "    def _backward():\n",
        "      self.grad += (1/self.data) * out.grad\n",
        "\n",
        "    out._backward = _backward\n",
        "\n",
        "    return out\n",
        "\n",
        "# We implement a reverse addition that allows Python to make sense of expressions\n",
        "# of the form `n + v` (which calls `n.__add__(v)`) where v is a Value object but `n` is not.\n",
        "  def __radd__(self, other):\n",
        "      return self + other\n",
        "\n",
        "  def __mul__(self, other):\n",
        "      other = other if isinstance(other, Value) else Value(other)\n",
        "      out = Value(self.data * other.data, (self, other), '*')\n",
        "\n",
        "      def _backward():\n",
        "          self.grad += other.grad * out.grad\n",
        "          other.grad += self.grad * out.grad\n",
        "\n",
        "      out._backward = _backward\n",
        "\n",
        "      return out\n",
        "\n",
        "  def __pow__(self, other):\n",
        "      assert isinstance(other, (int, float)) # support only integer or floating point powers\n",
        "      out = Value(self.data**other, (self,), f'**{other}')\n",
        "\n",
        "      def _backward():\n",
        "          self.grad += other * (self.data**(other - 1)) * out.grad\n",
        "\n",
        "      out._backward = _backward\n",
        "\n",
        "      return out\n",
        "\n",
        "  def __truediv__(self, other):\n",
        "      out = self * other**-1\n",
        "\n",
        "      def _backward():\n",
        "          self.grad += (1 / other.data) * out.grad\n",
        "          other.grad -= self.data * (other.data**-2) * out.grad\n",
        "\n",
        "      out._backward = _backward\n",
        "\n",
        "      return out\n",
        "\n",
        "  def __neg__(self):\n",
        "      out = self * -1\n",
        "\n",
        "      def _backward():\n",
        "          self.grad -= 1 * out.grad\n",
        "\n",
        "      out._backward = _backward\n",
        "\n",
        "      return out\n",
        "\n",
        "# Note that since the methods `__truediv__(self, other)` and `__neg__(self)` are\n",
        "# implemented in terms of the methods `__mul__(self, other)` and `__pow__(self, other)`\n",
        "# which handle gradient propagation, the gradient computations in the formers should\n",
        "# not be needed and could be removed to improve efficiency. But simply removing\n",
        "# these gradient computations within `__truediv__(self, other)` and `__neg__(self)`\n",
        "# makes that we're not computing the gradient of the loss function below correctly\n",
        "# (we return `0.0`!). What should be done?\n",
        "\n",
        "  # ------\n",
        "\n",
        "  def backward(self): # exactly as in video\n",
        "    topo = []\n",
        "    visited = set()\n",
        "    def build_topo(v):\n",
        "      if v not in visited:\n",
        "        visited.add(v)\n",
        "        for child in v._prev:\n",
        "          build_topo(child)\n",
        "        topo.append(v)\n",
        "    build_topo(self)\n",
        "\n",
        "    self.grad = 1.0\n",
        "    for node in reversed(topo):\n",
        "      node._backward()"
      ],
      "metadata": {
        "id": "nAPe_RVrCTeO",
        "trusted": true
      },
      "outputs": [],
      "execution_count": 8
    },
    {
      "cell_type": "code",
      "source": [
        "# test of the `exp` function\n",
        "x = Value(0.0)\n",
        "y = x.exp()\n",
        "print(y)"
      ],
      "metadata": {
        "trusted": true,
        "colab": {
          "base_uri": "https://localhost:8080/"
        },
        "id": "cThEndHgKndG",
        "outputId": "92266814-d500-4921-9638-d16f654ad0f0"
      },
      "outputs": [
        {
          "output_type": "stream",
          "name": "stdout",
          "text": [
            "Value(data=1.0)\n"
          ]
        }
      ],
      "execution_count": 9
    },
    {
      "cell_type": "code",
      "source": [
        "# test of the `log` function\n",
        "x = Value(1.0)\n",
        "y = x.log()\n",
        "print(y)"
      ],
      "metadata": {
        "trusted": true,
        "colab": {
          "base_uri": "https://localhost:8080/"
        },
        "id": "39gpteMzKndG",
        "outputId": "4efb7a7f-eb00-4b80-ec23-89e2bdab91aa"
      },
      "outputs": [
        {
          "output_type": "stream",
          "name": "stdout",
          "text": [
            "Value(data=0.0)\n"
          ]
        }
      ],
      "execution_count": 10
    },
    {
      "cell_type": "code",
      "source": [
        "# without referencing our code/video __too__ much, make this cell work\n",
        "# you'll have to implement (in some cases re-implemented) a number of functions\n",
        "# of the Value object, similar to what we've seen in the video.\n",
        "# instead of the squared error loss this implements the negative log likelihood\n",
        "# loss, which is very often used in classification.\n",
        "\n",
        "# this is the softmax function\n",
        "# https://en.wikipedia.org/wiki/Softmax_function\n",
        "def softmax(logits):\n",
        "  counts = [logit.exp() for logit in logits]\n",
        "  denominator = sum(counts)\n",
        "  out = [c / denominator for c in counts]\n",
        "  return out\n",
        "\n",
        "# this is the negative log likelihood loss function, pervasive in classification\n",
        "logits = [Value(0.0), Value(3.0), Value(-2.0), Value(1.0)]\n",
        "probs = softmax(logits)\n",
        "loss = -probs[3].log() # dim 3 acts as the label for this input example\n",
        "loss.backward()\n",
        "print(loss.data)\n",
        "\n",
        "ans = [0.041772570515350445, 0.8390245074625319, 0.005653302662216329, -0.8864503806400986]\n",
        "for dim in range(4):\n",
        "  ok = 'OK' if abs(logits[dim].grad - ans[dim]) < 1e-5 else 'WRONG!'\n",
        "  print(f\"{ok} for dim {dim}: expected {ans[dim]}, yours returns {logits[dim].grad}\")\n"
      ],
      "metadata": {
        "id": "VgWvwVQNAvnI",
        "trusted": true,
        "colab": {
          "base_uri": "https://localhost:8080/"
        },
        "outputId": "ce545b78-78bd-4662-b14f-a944d214b3fc"
      },
      "outputs": [
        {
          "output_type": "stream",
          "name": "stdout",
          "text": [
            "2.1755153626167147\n",
            "OK for dim 0: expected 0.041772570515350445, yours returns 0.04177257051535044\n",
            "OK for dim 1: expected 0.8390245074625319, yours returns 0.8390245074625318\n",
            "OK for dim 2: expected 0.005653302662216329, yours returns 0.0056533026622163285\n",
            "OK for dim 3: expected -0.8864503806400986, yours returns -0.8864503806400986\n"
          ]
        }
      ],
      "execution_count": 11
    },
    {
      "cell_type": "code",
      "source": [
        "# verify the gradient using the torch library\n",
        "# torch should give you the exact same gradient\n",
        "import torch\n",
        "\n",
        "# Define the logits as a PyTorch tensor (of dim 1) with `requires_grad=True` to track gradients\n",
        "logits = torch.tensor([0.0, 3.0, -2.0, 1.0], requires_grad=True)"
      ],
      "metadata": {
        "id": "A5Jq75AsoCws"
      },
      "execution_count": 12,
      "outputs": []
    },
    {
      "cell_type": "code",
      "source": [
        "logits"
      ],
      "metadata": {
        "colab": {
          "base_uri": "https://localhost:8080/"
        },
        "id": "4-LlzokhoR7g",
        "outputId": "1be160a3-3b83-49e8-889f-af9534e33255"
      },
      "execution_count": 13,
      "outputs": [
        {
          "output_type": "execute_result",
          "data": {
            "text/plain": [
              "tensor([ 0.,  3., -2.,  1.], requires_grad=True)"
            ]
          },
          "metadata": {},
          "execution_count": 13
        }
      ]
    },
    {
      "cell_type": "code",
      "source": [
        "# Compute the softmax using torch's corresponding built-in function\n",
        "probs = torch.softmax(logits, dim=0)"
      ],
      "metadata": {
        "id": "vvW28yXKoW_x"
      },
      "execution_count": 14,
      "outputs": []
    },
    {
      "cell_type": "code",
      "source": [
        "probs"
      ],
      "metadata": {
        "colab": {
          "base_uri": "https://localhost:8080/"
        },
        "id": "MsrvXuKSobLH",
        "outputId": "681ab314-882a-4f93-f813-b18de176a4f6"
      },
      "execution_count": 15,
      "outputs": [
        {
          "output_type": "execute_result",
          "data": {
            "text/plain": [
              "tensor([0.0418, 0.8390, 0.0057, 0.1135], grad_fn=<SoftmaxBackward0>)"
            ]
          },
          "metadata": {},
          "execution_count": 15
        }
      ]
    },
    {
      "cell_type": "code",
      "source": [
        "# Compute the negative log likelihood loss\n",
        "loss = -torch.log(probs[3])"
      ],
      "metadata": {
        "id": "QvH2pdVHoe-w"
      },
      "execution_count": 16,
      "outputs": []
    },
    {
      "cell_type": "code",
      "source": [
        "# Print the loss value\n",
        "print(loss.item())"
      ],
      "metadata": {
        "colab": {
          "base_uri": "https://localhost:8080/"
        },
        "id": "YBdNMiduosSh",
        "outputId": "04a0cd9d-38c6-4db0-93e8-0fba04b16c0c"
      },
      "execution_count": 17,
      "outputs": [
        {
          "output_type": "stream",
          "name": "stdout",
          "text": [
            "2.1755154132843018\n"
          ]
        }
      ]
    },
    {
      "cell_type": "code",
      "source": [
        "# Perform backpropagation to compute gradients\n",
        "loss.backward()"
      ],
      "metadata": {
        "id": "dgEJXE9uox77"
      },
      "execution_count": 18,
      "outputs": []
    },
    {
      "cell_type": "code",
      "source": [
        "# gradient\n",
        "logits.grad"
      ],
      "metadata": {
        "colab": {
          "base_uri": "https://localhost:8080/"
        },
        "id": "8wBT-LcLo2dG",
        "outputId": "b6854182-a9b8-4603-83d8-b80079f9d4b2"
      },
      "execution_count": 19,
      "outputs": [
        {
          "output_type": "execute_result",
          "data": {
            "text/plain": [
              "tensor([ 0.0418,  0.8390,  0.0057, -0.8865])"
            ]
          },
          "metadata": {},
          "execution_count": 19
        }
      ]
    },
    {
      "cell_type": "code",
      "source": [
        "# Check the gradients\n",
        "for dim in range(4):\n",
        "    ok = 'OK' if abs(logits.grad[dim].item() - ans[dim]) < 1e-5 else 'WRONG!'\n",
        "    print(f\"{ok} for dim {dim}: expected {ans[dim]}, PyTorch returns {logits.grad[dim].item()}\")"
      ],
      "metadata": {
        "colab": {
          "base_uri": "https://localhost:8080/"
        },
        "id": "fhJhJLhdpVAS",
        "outputId": "a85bdacb-2528-4626-963d-cc98b84e1d97"
      },
      "execution_count": 20,
      "outputs": [
        {
          "output_type": "stream",
          "name": "stdout",
          "text": [
            "OK for dim 0: expected 0.041772570515350445, PyTorch returns 0.041772566735744476\n",
            "OK for dim 1: expected 0.8390245074625319, PyTorch returns 0.8390244841575623\n",
            "OK for dim 2: expected 0.005653302662216329, PyTorch returns 0.005653302650898695\n",
            "OK for dim 3: expected -0.8864503806400986, PyTorch returns -0.8864504098892212\n"
          ]
        }
      ]
    },
    {
      "cell_type": "code",
      "source": [
        "# As you may expect, PyTorch has a built-in function for computing the negative\n",
        "# log likelihood loss called `torch.nn.NLLLoss`. It expects the input to be log\n",
        "# probabilities (which can be computed using `torch.nn.functional.log_softmax`)\n",
        "# and a target label. Thus, below we verify again the gradient, but this time\n",
        "# using the built-in log likelihood loss function of Pytorch.\n",
        "\n",
        "import torch.nn.functional as F\n",
        "# Logits\n",
        "## `dtype=torch.float64` to use double-precision floating-point format  (optional)\n",
        "logits = torch.tensor([0.0, 3.0, -2.0, 1.0], dtype=torch.float64, requires_grad=True)\n",
        "\n",
        "# Use log_softmax instead of softmax to directly get log probabilities\n",
        "log_probs = F.log_softmax(logits, dim=0)\n",
        "\n",
        "# Target label\n",
        "target = torch.tensor([3])\n",
        "\n",
        "# Create the negative log likelihood loss function\n",
        "nll_loss = torch.nn.NLLLoss()\n",
        "\n",
        "# Compute the loss using NLLLoss\n",
        "## `unsqueeze(0)` adds a dimension at the 0th position to the 1D tensor `log_probs`,\n",
        "## a batch size dimension (here 1), making `log_probs` into a 2D tensor, i.e. a 1 X 4 matrix.\n",
        "loss = nll_loss(log_probs.unsqueeze(0), target)\n",
        "\n",
        "# Perform backpropagation\n",
        "loss.backward()\n",
        "\n",
        "# Print the loss value\n",
        "print(loss.item())\n",
        "\n",
        "# Check the gradients\n",
        "for dim in range(4):\n",
        "    ok = 'OK' if abs(logits.grad[dim].item() - ans[dim]) < 1e-5 else 'WRONG!'\n",
        "    print(f\"{ok} for dim {dim}: expected {ans[dim]}, PyTorch returns {logits.grad[dim].item()}\")\n",
        "\n"
      ],
      "metadata": {
        "trusted": true,
        "colab": {
          "base_uri": "https://localhost:8080/"
        },
        "id": "qfQKe95zKndG",
        "outputId": "c4e1a278-59b4-446a-99a6-a98653b82faf"
      },
      "outputs": [
        {
          "output_type": "stream",
          "name": "stdout",
          "text": [
            "2.1755153626167143\n",
            "OK for dim 0: expected 0.041772570515350445, PyTorch returns 0.04177257051535046\n",
            "OK for dim 1: expected 0.8390245074625319, PyTorch returns 0.839024507462532\n",
            "OK for dim 2: expected 0.005653302662216329, PyTorch returns 0.005653302662216331\n",
            "OK for dim 3: expected -0.8864503806400986, PyTorch returns -0.8864503806400987\n"
          ]
        }
      ],
      "execution_count": 21
    },
    {
      "cell_type": "code",
      "source": [],
      "metadata": {
        "id": "UAfWAJdqltTC"
      },
      "execution_count": null,
      "outputs": []
    }
  ]
}